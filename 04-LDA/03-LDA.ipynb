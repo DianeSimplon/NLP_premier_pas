{
 "cells": [
  {
   "cell_type": "markdown",
   "metadata": {},
   "source": [
    "# Latent Dirichlet Allocation"
   ]
  },
  {
   "cell_type": "code",
   "execution_count": 29,
   "metadata": {},
   "outputs": [
    {
     "name": "stderr",
     "output_type": "stream",
     "text": [
      "[nltk_data] Downloading package stopwords to\n",
      "[nltk_data]     C:\\Users\\Abize\\AppData\\Roaming\\nltk_data...\n",
      "[nltk_data]   Package stopwords is already up-to-date!\n"
     ]
    }
   ],
   "source": [
    "import pandas as pd\n",
    "import re\n",
    "import nltk\n",
    "from nltk.corpus import stopwords\n",
    "nltk.download('stopwords')\n",
    "from nltk.stem.porter import PorterStemmer\n",
    "from nltk.stem import WordNetLemmatizer"
   ]
  },
  {
   "cell_type": "code",
   "execution_count": 81,
   "metadata": {},
   "outputs": [],
   "source": [
    "#pip install wordcloud"
   ]
  },
  {
   "cell_type": "code",
   "execution_count": 82,
   "metadata": {},
   "outputs": [],
   "source": [
    "#pip install --upgrade pip"
   ]
  },
  {
   "cell_type": "code",
   "execution_count": 83,
   "metadata": {},
   "outputs": [],
   "source": [
    "#pip install wordcloud"
   ]
  },
  {
   "cell_type": "code",
   "execution_count": 34,
   "metadata": {},
   "outputs": [
    {
     "data": {
      "text/plain": [
       "'1.2.4'"
      ]
     },
     "execution_count": 34,
     "metadata": {},
     "output_type": "execute_result"
    }
   ],
   "source": [
    "pd.__version__"
   ]
  },
  {
   "cell_type": "code",
   "execution_count": 35,
   "metadata": {},
   "outputs": [
    {
     "data": {
      "text/html": [
       "<div>\n",
       "<style scoped>\n",
       "    .dataframe tbody tr th:only-of-type {\n",
       "        vertical-align: middle;\n",
       "    }\n",
       "\n",
       "    .dataframe tbody tr th {\n",
       "        vertical-align: top;\n",
       "    }\n",
       "\n",
       "    .dataframe thead th {\n",
       "        text-align: right;\n",
       "    }\n",
       "</style>\n",
       "<table border=\"1\" class=\"dataframe\">\n",
       "  <thead>\n",
       "    <tr style=\"text-align: right;\">\n",
       "      <th></th>\n",
       "      <th>text</th>\n",
       "    </tr>\n",
       "  </thead>\n",
       "  <tbody>\n",
       "    <tr>\n",
       "      <th>0</th>\n",
       "      <td>From: gld@cunixb.cc.columbia.edu (Gary L Dare)...</td>\n",
       "    </tr>\n",
       "    <tr>\n",
       "      <th>1</th>\n",
       "      <td>From: atterlep@vela.acs.oakland.edu (Cardinal ...</td>\n",
       "    </tr>\n",
       "    <tr>\n",
       "      <th>2</th>\n",
       "      <td>From: miner@kuhub.cc.ukans.edu\\nSubject: Re: A...</td>\n",
       "    </tr>\n",
       "    <tr>\n",
       "      <th>3</th>\n",
       "      <td>From: atterlep@vela.acs.oakland.edu (Cardinal ...</td>\n",
       "    </tr>\n",
       "    <tr>\n",
       "      <th>4</th>\n",
       "      <td>From: vzhivov@superior.carleton.ca (Vladimir Z...</td>\n",
       "    </tr>\n",
       "  </tbody>\n",
       "</table>\n",
       "</div>"
      ],
      "text/plain": [
       "                                                text\n",
       "0  From: gld@cunixb.cc.columbia.edu (Gary L Dare)...\n",
       "1  From: atterlep@vela.acs.oakland.edu (Cardinal ...\n",
       "2  From: miner@kuhub.cc.ukans.edu\\nSubject: Re: A...\n",
       "3  From: atterlep@vela.acs.oakland.edu (Cardinal ...\n",
       "4  From: vzhivov@superior.carleton.ca (Vladimir Z..."
      ]
     },
     "execution_count": 35,
     "metadata": {},
     "output_type": "execute_result"
    }
   ],
   "source": [
    "data = pd.read_csv('data', sep=\",\", header=None)\n",
    "data.columns = ['text']\n",
    "data.head()"
   ]
  },
  {
   "cell_type": "markdown",
   "metadata": {},
   "source": [
    "## Implémentation LDA\n",
    "### Le code complet est disponible sous forme de notebook Jupyter sur GitHub\n",
    "\n",
    "### Chargement des données\n",
    "### Nettoyage des données\n",
    "### Analyse exploratoire\n",
    "### Préparation des données pour l'analyse LDA\n",
    "### Formation sur le modèle LDA\n",
    "### Analyse des résultats du modèle LDA"
   ]
  },
  {
   "cell_type": "code",
   "execution_count": 36,
   "metadata": {},
   "outputs": [
    {
     "data": {
      "text/plain": [
       "'From:   Bonjour, je suis Michel'"
      ]
     },
     "execution_count": 36,
     "metadata": {},
     "output_type": "execute_result"
    }
   ],
   "source": [
    "string = \"From: etiennecombe@gmail.etu.com Bonjour, je suis Michel\"\n",
    "re.sub(\"\\S+@\\S+\", \" \", string)"
   ]
  },
  {
   "cell_type": "code",
   "execution_count": 37,
   "metadata": {},
   "outputs": [
    {
     "data": {
      "text/plain": [
       "0       From: gld@cunixb.cc.columbia.edu (Gary L Dare)...\n",
       "1       From: atterlep@vela.acs.oakland.edu (Cardinal ...\n",
       "2       From: miner@kuhub.cc.ukans.edu\\nSubject: Re: A...\n",
       "3       From: atterlep@vela.acs.oakland.edu (Cardinal ...\n",
       "4       From: vzhivov@superior.carleton.ca (Vladimir Z...\n",
       "                              ...                        \n",
       "1194    From: jerryb@eskimo.com (Jerry Kaufman)\\nSubje...\n",
       "1195    From: golchowy@alchemy.chem.utoronto.ca (Geral...\n",
       "1196    From: jayne@mmalt.guild.org (Jayne Kulikauskas...\n",
       "1197    From: sclark@epas.utoronto.ca (Susan Clark)\\nS...\n",
       "1198    From: lmvec@westminster.ac.uk (William Hargrea...\n",
       "Name: text, Length: 1199, dtype: object"
      ]
     },
     "execution_count": 37,
     "metadata": {},
     "output_type": "execute_result"
    }
   ],
   "source": [
    "data[\"text\"]"
   ]
  },
  {
   "cell_type": "markdown",
   "metadata": {},
   "source": [
    "The data is a collection of emails that are not labelled. Let's try extract topics from them!"
   ]
  },
  {
   "cell_type": "markdown",
   "metadata": {},
   "source": [
    "## Preprocessing "
   ]
  },
  {
   "cell_type": "markdown",
   "metadata": {},
   "source": [
    "👇 You're used to it by now... Clean up! Store the cleaned text in a new dataframe column \"clean_text\"."
   ]
  },
  {
   "cell_type": "code",
   "execution_count": null,
   "metadata": {},
   "outputs": [],
   "source": [
    "list_stopwords = ['Subject']"
   ]
  },
  {
   "cell_type": "code",
   "execution_count": 114,
   "metadata": {},
   "outputs": [],
   "source": [
    "def preproccessing(series: pd.Series):\n",
    "    for i in range(len(series)):\n",
    "        review = re.sub(\"\\S+@\\S+\",\" \", series[i])\n",
    "        review = review.lower()\n",
    "        review = review.split()\n",
    "        ps = PorterStemmer()\n",
    "        all_stopwords = stopwords.words('english')\n",
    "        all_stopwords.remove(\"not\")\n",
    "        review = [ps.stem(word) for word in review if not word in set(all_stopwords)]\n",
    "        review = ' '.join(review)\n",
    "        series[i] = review\n",
    "    #print(series[i])\n",
    "    return series\n",
    "data_clean=preproccessing(data['text'])"
   ]
  },
  {
   "cell_type": "code",
   "execution_count": 115,
   "metadata": {},
   "outputs": [
    {
     "data": {
      "text/plain": [
       "0       from: (gari l dare) subject: stan fischler, 4/...\n",
       "1       from: (cardin ximenez) subject: re: arrog chri...\n",
       "2       from: subject: re: ancient book organization: ...\n",
       "3       from: (cardin ximenez) subject: atheist hell o...\n",
       "4       from: (vladimir zhivov) subject: flame truli b...\n",
       "                              ...                        \n",
       "1194    from: (jerri kaufman) subject: re: prayer advi...\n",
       "1195    from: (gerald olchowy) subject: re: pat burn ....\n",
       "1196    from: (jayn kulikauskas) subject: qualiti cath...\n",
       "1197    from: (susan clark) subject: pick first? organ...\n",
       "1198    from: (william hargreaves) subject: re: help o...\n",
       "Name: text, Length: 1199, dtype: object"
      ]
     },
     "execution_count": 115,
     "metadata": {},
     "output_type": "execute_result"
    }
   ],
   "source": [
    "data_clean"
   ]
  },
  {
   "cell_type": "code",
   "execution_count": 12,
   "metadata": {},
   "outputs": [
    {
     "data": {
      "text/plain": [
       "pandas.core.series.Series"
      ]
     },
     "execution_count": 12,
     "metadata": {},
     "output_type": "execute_result"
    }
   ],
   "source": [
    "type(data_clean)"
   ]
  },
  {
   "cell_type": "code",
   "execution_count": 87,
   "metadata": {},
   "outputs": [],
   "source": [
    "data_clean.to_csv(r'data_clean.csv', index = False)"
   ]
  },
  {
   "cell_type": "code",
   "execution_count": 116,
   "metadata": {},
   "outputs": [
    {
     "name": "stdout",
     "output_type": "stream",
     "text": [
      "0\n"
     ]
    }
   ],
   "source": [
    "print(data_clean.isna().sum())"
   ]
  },
  {
   "cell_type": "markdown",
   "metadata": {},
   "source": [
    "## Latent Dirichlet Allocation model"
   ]
  },
  {
   "cell_type": "markdown",
   "metadata": {},
   "source": [
    "👇 Train an LDA model to extract potential topics."
   ]
  },
  {
   "cell_type": "code",
   "execution_count": 117,
   "metadata": {},
   "outputs": [
    {
     "data": {
      "text/plain": [
       "LatentDirichletAllocation(n_components=50, random_state=42)"
      ]
     },
     "execution_count": 117,
     "metadata": {},
     "output_type": "execute_result"
    }
   ],
   "source": [
    "from sklearn.decomposition import LatentDirichletAllocation\n",
    "from sklearn.feature_extraction.text import TfidfVectorizer\n",
    "\n",
    "model = TfidfVectorizer()\n",
    "X = model.fit_transform(data_clean)\n",
    "lda = LatentDirichletAllocation(n_components=50, random_state=42)\n",
    "lda.fit(X)"
   ]
  },
  {
   "cell_type": "code",
   "execution_count": 118,
   "metadata": {},
   "outputs": [
    {
     "data": {
      "text/plain": [
       "(1199, 18874)"
      ]
     },
     "execution_count": 118,
     "metadata": {},
     "output_type": "execute_result"
    }
   ],
   "source": [
    "X.shape"
   ]
  },
  {
   "cell_type": "code",
   "execution_count": 103,
   "metadata": {},
   "outputs": [],
   "source": [
    "#model.get_feature_names()"
   ]
  },
  {
   "cell_type": "code",
   "execution_count": 106,
   "metadata": {},
   "outputs": [
    {
     "data": {
      "text/plain": [
       "array([[0.02      , 0.02      , 0.02      , ..., 0.02      , 0.02      ,\n",
       "        0.02      ],\n",
       "       [0.02      , 0.02      , 0.02      , ..., 0.02      , 0.02      ,\n",
       "        0.02      ],\n",
       "       [0.76523315, 0.02      , 0.02      , ..., 0.02      , 0.02      ,\n",
       "        0.02      ],\n",
       "       ...,\n",
       "       [0.02      , 0.02      , 0.02      , ..., 0.02      , 0.02      ,\n",
       "        0.02      ],\n",
       "       [0.02      , 0.02      , 0.02      , ..., 0.02      , 0.02      ,\n",
       "        0.02      ],\n",
       "       [0.02      , 0.02      , 0.02      , ..., 0.02      , 0.02      ,\n",
       "        0.02      ]])"
      ]
     },
     "execution_count": 106,
     "metadata": {},
     "output_type": "execute_result"
    }
   ],
   "source": [
    "lda.components_"
   ]
  },
  {
   "cell_type": "code",
   "execution_count": 119,
   "metadata": {},
   "outputs": [
    {
     "name": "stderr",
     "output_type": "stream",
     "text": [
      "C:\\Users\\Abize\\AppData\\Local\\Programs\\Python\\Python39\\lib\\site-packages\\sklearn\\utils\\deprecation.py:87: FutureWarning: Function get_feature_names is deprecated; get_feature_names is deprecated in 1.0 and will be removed in 1.2. Please use get_feature_names_out instead.\n",
      "  warnings.warn(msg, category=FutureWarning)\n"
     ]
    }
   ],
   "source": [
    "test = []\n",
    "for topic in lda.components_:\n",
    "    dict_ = dict(zip(model.get_feature_names(), topic))\n",
    "    dict_ = dict(sorted(dict_.items(), key=lambda item: item[1], reverse= True))    \n",
    "    test.append(dict(list(dict_.items())[0:10]))"
   ]
  },
  {
   "cell_type": "code",
   "execution_count": 120,
   "metadata": {},
   "outputs": [
    {
     "data": {
      "text/plain": [
       "[{'huot': 1.3836061208332013,\n",
       "  'cray': 1.3502319990939753,\n",
       "  'norm': 0.9940262927835092,\n",
       "  'franchi': 0.8782982919993,\n",
       "  'minnesota': 0.8184415771841715,\n",
       "  'whatta': 0.7732964715180305,\n",
       "  'minut': 0.754381182526269,\n",
       "  'pittpa': 0.701803060414636,\n",
       "  '_____________________________________________________________________________': 0.6841393488344164,\n",
       "  'riddance': 0.656236075478749},\n",
       " {'hammerl': 1.735637272217437,\n",
       "  'valeri': 1.7334151183458146,\n",
       "  'captain': 1.2632146471910937,\n",
       "  'sabbath': 1.1567396668888492,\n",
       "  'black': 1.0595466460233538,\n",
       "  'idacom': 0.9371362092247941,\n",
       "  'band': 0.7915678567204457,\n",
       "  'acsu': 0.766258846107942,\n",
       "  'ub': 0.766258846107942,\n",
       "  'pressure': 0.7533746692178439},\n",
       " {'chant': 1.3776990208618027,\n",
       "  'keenan': 0.8154259330292227,\n",
       "  'khan': 0.7716863691449067,\n",
       "  'mohammad': 0.7716863691449067,\n",
       "  'lyrics': 0.7613324315802434,\n",
       "  'passion': 0.6147793801319614,\n",
       "  'neilsen': 0.5111389610690978,\n",
       "  'handl': 0.48619303270014974,\n",
       "  'enmiti': 0.4744405535118272,\n",
       "  'fundamentalist': 0.4446442681025233},\n",
       " {'ist': 1.098460013815687,\n",
       "  'ists': 1.098460013815687,\n",
       "  'laboratory': 1.098460013815687,\n",
       "  'stpl': 1.098460013815687,\n",
       "  'terresteri': 1.098460013815687,\n",
       "  'solar': 1.0861520223293777,\n",
       "  'rebuild': 0.8201447001303617,\n",
       "  'ulf': 0.7923364794576963,\n",
       "  'levit': 0.5949121906670031,\n",
       "  'samuelson': 0.5793989800011976},\n",
       " {'discussion': 0.5214377113621846,\n",
       "  'tonight': 0.49730260417950406,\n",
       "  'klingon': 0.4865823653018503,\n",
       "  'hirji': 0.47685005395884505,\n",
       "  'rahim': 0.47685005395884505,\n",
       "  'easter': 0.43472689811363097,\n",
       "  'close': 0.4170019020719357,\n",
       "  'godfather': 0.41587191560672837,\n",
       "  'before': 0.3977529761306462,\n",
       "  'target': 0.3640918361182374},\n",
       " {'easier': 0.6816506522995934,\n",
       "  'plymouth': 0.6524256521932289,\n",
       "  'marida': 0.5890524054666424,\n",
       "  'destroy': 0.5653728448486731,\n",
       "  'motorola': 0.5213384559135184,\n",
       "  'jon': 0.5075168803585227,\n",
       "  '129': 0.49385216923337044,\n",
       "  '632': 0.49286208843477974,\n",
       "  '708': 0.49286208843477974,\n",
       "  'hawk': 0.4774373794621691},\n",
       " {'clement': 1.3163711495144974,\n",
       "  'tickets': 1.2606483407335904,\n",
       "  'messier': 1.2439154238804166,\n",
       "  'angelo': 1.0405664126528198,\n",
       "  'pleshar': 1.0405664126528198,\n",
       "  'irvin': 1.015757777422739,\n",
       "  'color': 0.8919613275430034,\n",
       "  'dick': 0.780520321363181,\n",
       "  'scalper': 0.7517849822123915,\n",
       "  'faq': 0.7481565996809911},\n",
       " {'grass': 3.969436797714394,\n",
       "  'valley': 3.607331271781168,\n",
       "  'chuck': 2.8673243816960157,\n",
       "  'daili': 2.752764538152015,\n",
       "  'petch': 2.0600541105630703,\n",
       "  'ver': 1.5977225536367579,\n",
       "  'ca': 1.039689643987289,\n",
       "  'armstrong': 0.865194975733598,\n",
       "  'stan': 0.7702075629801918,\n",
       "  'revel': 0.7495625869305234},\n",
       " {'easter': 3.185808602468498,\n",
       "  'celebr': 2.3343933159782004,\n",
       "  'chelio': 1.07363135293315,\n",
       "  'wa': 1.0048169155458524,\n",
       "  'zazula': 0.9773076244976805,\n",
       "  'harold': 0.9406530871073243,\n",
       "  'ysebaert': 0.9275612218798481,\n",
       "  'neeli': 0.897982547334627,\n",
       "  'french': 0.8521358872301861,\n",
       "  'tulsa': 0.8503520863960662},\n",
       " {'priest': 1.4001060216893608,\n",
       "  'blindly': 1.1771368847100616,\n",
       "  'paz': 1.0463619914419895,\n",
       "  'traer': 1.0463619914419895,\n",
       "  'venido': 1.0463619914419895,\n",
       "  'suhonen': 1.011977827595411,\n",
       "  'pope': 0.9309589339989632,\n",
       "  'que': 0.839299613575367,\n",
       "  'bowman': 0.8340017443894401,\n",
       "  'worship': 0.8271423778629061},\n",
       " {'gainey': 3.374058467712405,\n",
       "  'murray': 3.2098685643965257,\n",
       "  'gm': 2.985773410700859,\n",
       "  'forward': 1.2743868310326987,\n",
       "  'married': 1.0221766028324188,\n",
       "  'sanderson': 0.9325610235438371,\n",
       "  'foul': 0.8938739587145158,\n",
       "  'graca': 0.8889806269591036,\n",
       "  'bryan': 0.8100605664085176,\n",
       "  'ra': 0.7371099306582778},\n",
       " {'philli': 1.8892298135972065,\n",
       "  '92': 1.4226283751360973,\n",
       "  'craig': 1.2811442993845297,\n",
       "  '___': 1.1974368451626258,\n",
       "  'smith': 1.1957364545132596,\n",
       "  '91': 1.195229076613646,\n",
       "  'goal': 1.1442329760115384,\n",
       "  'futur': 1.040620552501908,\n",
       "  'poll': 1.0020040946799003,\n",
       "  'loui': 0.9589802044979123},\n",
       " {'milwauk': 1.9538340560672067,\n",
       "  'ferreira': 1.1479306526647812,\n",
       "  'admir': 0.9484681080616134,\n",
       "  'galvin': 0.9047543757289814,\n",
       "  'robbi': 0.6902746446904557,\n",
       "  'po': 0.6812098247049939,\n",
       "  '94': 0.6054548950719204,\n",
       "  'lives': 0.5302486348205933,\n",
       "  'jacob': 0.5236933634506138,\n",
       "  'really': 0.5113314317930353},\n",
       " {'jayn': 2.2056983974979625,\n",
       "  'vera': 2.0013663570884983,\n",
       "  'kulikauskas': 1.9964889740843494,\n",
       "  'creation': 1.8015863126898803,\n",
       "  'schism': 1.4330991756962312,\n",
       "  'ye': 1.3625803275001565,\n",
       "  'unto': 1.3493939510298578,\n",
       "  'murphy': 1.3278383045107434,\n",
       "  'muslim': 1.2970403229881748,\n",
       "  'kulikauska': 1.2586117558646794},\n",
       " {'carol': 1.6146206305534714,\n",
       "  'broadcast': 1.1052268137173173,\n",
       "  'kdka': 1.0938723801630992,\n",
       "  'alvin': 1.0930838280853947,\n",
       "  'absolute': 1.0719191046606267,\n",
       "  'interpretation': 0.9421227337319497,\n",
       "  'station': 0.9215899319362642,\n",
       "  'wdve': 0.7988190607182911,\n",
       "  'sportschannel': 0.7649898319469874,\n",
       "  'local': 0.6535329715348109},\n",
       " {'captain': 6.526660471258014,\n",
       "  'exist': 6.096752966932393,\n",
       "  'jewish': 3.9494038155285036,\n",
       "  'belief': 3.444138535036855,\n",
       "  'natur': 3.3147537992214424,\n",
       "  'requir': 2.80559120056391,\n",
       "  'drug': 2.7539068417326114,\n",
       "  'existence': 2.661647813388182,\n",
       "  'respect': 2.496508860124239,\n",
       "  'byler': 2.4594687107845608},\n",
       " {'keller': 4.331072666471487,\n",
       "  'keith': 4.038506067307296,\n",
       "  'rangers': 2.3736653217835277,\n",
       "  'upenn': 1.9757924862206353,\n",
       "  'art': 1.8839759848871747,\n",
       "  'ivi': 1.8073694959053304,\n",
       "  'quakers': 1.8073694959053304,\n",
       "  'pennsylvania': 1.7946701034121462,\n",
       "  'sas': 1.7596272553117647,\n",
       "  'champs': 1.6143178106701868},\n",
       " {'mask': 1.2530655427252861,\n",
       "  'babylon': 0.6831801589224723,\n",
       "  'acquired': 0.6427690593534326,\n",
       "  'arsenault': 0.5363842407865098,\n",
       "  'michel': 0.5346090424369201,\n",
       "  'curti': 0.47681612206601265,\n",
       "  'disea': 0.46945242886356653,\n",
       "  'wc': 0.46242240451467825,\n",
       "  'boxscor': 0.4596894364490487,\n",
       "  'fertil': 0.4571911872283391},\n",
       " {'pope': 2.1265998096815997,\n",
       "  'protest': 1.2373967095749452,\n",
       "  'monophysit': 1.1506011692381735,\n",
       "  'human': 1.134433667424729,\n",
       "  'council': 1.0050173613670486,\n",
       "  'sherri': 1.000878532397379,\n",
       "  'object': 1.0003325761329573,\n",
       "  'ignor': 0.9764717186971549,\n",
       "  'revelation': 0.9361764871107835,\n",
       "  'conflict': 0.840878202135659},\n",
       " {'shap': 1.9605606150111659,\n",
       "  'hole': 0.9119050529625724,\n",
       "  'linden': 0.632252337380781,\n",
       "  'ea': 0.6047229405065256,\n",
       "  'wa': 0.5983456492776177,\n",
       "  'sherlett': 0.5052752001569545,\n",
       "  'my': 0.48505947285612583,\n",
       "  'jeesu': 0.43968863503787625,\n",
       "  'commerci': 0.43710581981527197,\n",
       "  'flam': 0.4253712696704141},\n",
       " {'confer': 1.871624700628962,\n",
       "  'winner': 1.3533248584444273,\n",
       "  'norri': 1.267594596847876,\n",
       "  'smyth': 1.1946133554812364,\n",
       "  'gm': 1.108707663607382,\n",
       "  'campbel': 0.9773614378038066,\n",
       "  'king': 0.9677811990988097,\n",
       "  'wale': 0.9322399983030243,\n",
       "  'satan': 0.9131259591924319,\n",
       "  'divi': 0.7670353780961543},\n",
       " {'walker': 1.0201185597430327,\n",
       "  'brunswick': 0.7643493868308999,\n",
       "  'environ': 0.6860996928416558,\n",
       "  'steel': 0.5747332968099169,\n",
       "  'pantheism': 0.5437636361934993,\n",
       "  'ray': 0.5355428738501884,\n",
       "  'sponser': 0.510398208355998,\n",
       "  'rangers': 0.5069935081254185,\n",
       "  'giveaway': 0.47908339063882327,\n",
       "  '__': 0.41050157571247275},\n",
       " {'georgia': 4.590421251665569,\n",
       "  'covington': 3.9388700627913327,\n",
       "  'marri': 3.0745055228052047,\n",
       "  'michael': 3.019583059657806,\n",
       "  '706': 2.1103564732255893,\n",
       "  '542': 2.10174222099879,\n",
       "  'athen': 2.094930026387782,\n",
       "  '0358': 1.7000260026675422,\n",
       "  '30602': 1.7000260026675422,\n",
       "  '7415': 1.7000260026675422},\n",
       " {'vs': 4.203637208755928,\n",
       "  'chi': 3.4109442302190645,\n",
       "  'det': 3.2421320382743026,\n",
       "  'cal': 3.1141551310022515,\n",
       "  'tor': 2.8811198494510477,\n",
       "  'bo': 2.547445535091009,\n",
       "  'van': 2.3050080589242103,\n",
       "  'pit': 2.147662582951977,\n",
       "  'stl': 1.967287996291795,\n",
       "  'nyi': 1.8604915343354766},\n",
       " {'_____________________________________________________': 0.8068428811521634,\n",
       "  'ayari': 0.7970408875268182,\n",
       "  'seminari': 0.7395275684114063,\n",
       "  'keenan': 0.6562188932036505,\n",
       "  'darius': 0.6461674448743154,\n",
       "  'rpi': 0.6123188680458971,\n",
       "  'renssela': 0.5872944072995521,\n",
       "  'shirt': 0.5679253726315369,\n",
       "  'oser': 0.5628970502214357,\n",
       "  'crin': 0.5376376538535315},\n",
       " {'kariya': 1.4497751562772319,\n",
       "  'colorado': 0.8426487230184583,\n",
       "  'champions': 0.6702972391657357,\n",
       "  'daigl': 0.6275255755937266,\n",
       "  'witch': 0.5775067745030469,\n",
       "  'elli': 0.4874582425305022,\n",
       "  'tournament': 0.44808985125282275,\n",
       "  'dalla': 0.4465260613207761,\n",
       "  'daughter': 0.4456764574020165,\n",
       "  'captialist': 0.4426155090245616},\n",
       " {'octopu': 3.627603110351556,\n",
       "  'gm': 2.373356495514823,\n",
       "  'ahl': 2.319809507033046,\n",
       "  'detroit': 1.789435186870793,\n",
       "  'moncton': 1.6168162502955776,\n",
       "  'adirondack': 1.3486454642559833,\n",
       "  'clarkson': 1.1975530766085076,\n",
       "  'tonight': 1.1821487599957206,\n",
       "  'virginia': 1.0827960877180005,\n",
       "  'champs': 1.0187661493384594},\n",
       " {'nhl': 6.439144751504231,\n",
       "  'boston': 5.426034399940476,\n",
       "  'canadian': 5.009714500388747,\n",
       "  'european': 4.977333921731645,\n",
       "  'games': 4.580372315271587,\n",
       "  'north': 3.6380041291887246,\n",
       "  'wing': 3.278852064071607,\n",
       "  'toronto': 3.185892821096048,\n",
       "  'draft': 3.009019738231626,\n",
       "  'minnesota': 2.857986251734542},\n",
       " {'immacul': 1.0077122039043858,\n",
       "  'stewart': 0.9031505108076048,\n",
       "  'roland': 0.898220597618043,\n",
       "  'conception': 0.7169354102279418,\n",
       "  'dreier': 0.6677824654021153,\n",
       "  'declin': 0.657989236923003,\n",
       "  'inner': 0.5841677392500615,\n",
       "  'numminen': 0.5202190329820552,\n",
       "  'link': 0.4675272151883619,\n",
       "  'ohio': 0.45671290628935446},\n",
       " {'pavlic': 0.865698671138528,\n",
       "  'tba': 0.7439962390473079,\n",
       "  'matt': 0.7415332491443248,\n",
       "  'burger': 0.7382505336791338,\n",
       "  'bowl': 0.6929660842675969,\n",
       "  'loui': 0.5805925304559596,\n",
       "  'colorado': 0.577070458393158,\n",
       "  'charlottetown': 0.536243615470027,\n",
       "  'hindered': 0.5061137055488188,\n",
       "  'sorri': 0.47151571950476395},\n",
       " {'dare': 4.870635757148452,\n",
       "  'gari': 4.229081101495053,\n",
       "  'cc': 1.8056349338629742,\n",
       "  'phd': 1.7622622162169932,\n",
       "  'cunixb': 1.7181500049709695,\n",
       "  'gld': 1.7181500049709695,\n",
       "  'souvien': 1.7181500049709695,\n",
       "  'domi': 1.7011773307258578,\n",
       "  'je': 1.7004924165705142,\n",
       "  'columbia': 1.585600054134482},\n",
       " {'66': 0.9556887727231419,\n",
       "  'darl': 0.8565497883864928,\n",
       "  '81': 0.7777876984384892,\n",
       "  '91': 0.7428036862148827,\n",
       "  'cellar': 0.7394653832130144,\n",
       "  '86': 0.7238823024740066,\n",
       "  'bb': 0.6411269503899832,\n",
       "  'thoma': 0.635069194937166,\n",
       "  '215': 0.5737912945240722,\n",
       "  'realiabl': 0.5700352666247874},\n",
       " {'filinuk': 0.7704248998189815,\n",
       "  'geoff': 0.7181602067073081,\n",
       "  'cdt': 0.6200289178159071,\n",
       "  'ryan': 0.5667679794114905,\n",
       "  'hawk': 0.4594145293223663,\n",
       "  'impressive': 0.4502351286645521,\n",
       "  'central': 0.43804086584012125,\n",
       "  'est': 0.42175647282302864,\n",
       "  'ontario': 0.4047172299536171,\n",
       "  'themselves': 0.3960788321173696},\n",
       " {'hispan': 1.2751162801828975,\n",
       "  'ma': 1.2065854660695823,\n",
       "  'pera': 1.054688872692532,\n",
       "  'ata': 1.0467046920622272,\n",
       "  'antonio': 1.0126556972411993,\n",
       "  'boston': 0.894357931699254,\n",
       "  'ihl': 0.8293029466505246,\n",
       "  'offici': 0.7892161700809591,\n",
       "  'canon': 0.7883281359250678,\n",
       "  'hfsi': 0.7433280221853814},\n",
       " {'eau': 0.41580874175088683,\n",
       "  'murray': 0.39823402372098754,\n",
       "  'witch': 0.3667781441152279,\n",
       "  'dan': 0.3373949918022476,\n",
       "  '609': 0.320439513359583,\n",
       "  'cms': 0.3039708235860584,\n",
       "  'lauri': 0.3039708235860584,\n",
       "  'claire': 0.28387249449882374,\n",
       "  'wiccan': 0.28387249449882374,\n",
       "  'walker': 0.27092610208417006},\n",
       " {'hrivnak': 3.365824523930863,\n",
       "  'friedman': 1.628389914827686,\n",
       "  'braves': 1.515790140368265,\n",
       "  'hornets': 1.515790140368265,\n",
       "  'patton': 1.515790140368265,\n",
       "  'skins': 1.515790140368265,\n",
       "  'capitals': 1.3683794030618015,\n",
       "  'music': 1.3256582957558838,\n",
       "  'emot': 1.3034718604155275,\n",
       "  'technolog': 1.058010717155758},\n",
       " {'jay': 0.9884043231152273,\n",
       "  'senators': 0.8770429833333371,\n",
       "  'lindro': 0.7851757582076275,\n",
       "  'expo': 0.7604252558076957,\n",
       "  'crawl': 0.7440118608083887,\n",
       "  'cuba': 0.6275032387407905,\n",
       "  'theist': 0.60438059984369,\n",
       "  'defect': 0.582689179613266,\n",
       "  'philli': 0.5190088633212249,\n",
       "  'repent': 0.5093451621690094},\n",
       " {'flyers': 0.9607162584355914,\n",
       "  'keenan': 0.8119667085331734,\n",
       "  'philip': 0.7383808309580686,\n",
       "  'barasso': 0.7355047111391518,\n",
       "  'increa': 0.7218960418492955,\n",
       "  'devot': 0.6615114196765672,\n",
       "  'curcio': 0.6591063297255548,\n",
       "  '10510': 0.6275900357183366,\n",
       "  'briarcliff': 0.6275900357183366,\n",
       "  'per': 0.6118435013186002},\n",
       " {'348': 1.74675204051628,\n",
       "  'sel': 1.5999465101776356,\n",
       "  'winnipeg': 1.5248038266959816,\n",
       "  'turner': 1.4868042781845585,\n",
       "  'eric': 1.4856687891941256,\n",
       "  'daryl': 1.4448611032462855,\n",
       "  'manitoba': 1.3904613303007667,\n",
       "  'scores': 1.3555261331459485,\n",
       "  'jet': 1.3507893183233097,\n",
       "  'media': 1.29295429438255},\n",
       " {'not': 39.1783204110841,\n",
       "  'god': 34.15903918870633,\n",
       "  'christian': 25.60523873610045,\n",
       "  'would': 25.414302130122582,\n",
       "  'one': 23.409823515587842,\n",
       "  'go': 22.018303065748512,\n",
       "  'subject': 21.463414393113727,\n",
       "  'from': 20.67858511279444,\n",
       "  're': 20.31017126028837,\n",
       "  'lines': 20.14243250703997},\n",
       " {'tape': 1.2282519985528573,\n",
       "  'wbt': 1.206030865968295,\n",
       "  'delay': 1.1940175095420533,\n",
       "  'susan': 1.110980970641223,\n",
       "  'ideolog': 1.1066253005091908,\n",
       "  'mussack': 0.9823815444040254,\n",
       "  'primeau': 0.9408328339772267,\n",
       "  'uk': 0.9212240124334306,\n",
       "  'denounc': 0.9130208530156372,\n",
       "  'maria': 0.848855957110384},\n",
       " {'finnish': 1.714456621688368,\n",
       "  'helsinki': 1.286167080386477,\n",
       "  'marcu': 1.1615632072260502,\n",
       "  'finland': 0.9541687284201009,\n",
       "  'tps': 0.8977288851122415,\n",
       "  'lindroo': 0.8895030936520077,\n",
       "  'inf': 0.8770864135056158,\n",
       "  'top': 0.8672378949236351,\n",
       "  'dusseldorf': 0.8342672194624753,\n",
       "  'draft': 0.7387075118624904},\n",
       " {'colons': 1.01529021388118,\n",
       "  'dineen': 0.9905798204542997,\n",
       "  'conclu': 0.9242906944824648,\n",
       "  'stiehm': 0.8620470867326747,\n",
       "  'miami': 0.8358558369397585,\n",
       "  'hrudey': 0.6738826688624832,\n",
       "  'temper': 0.6407289556259085,\n",
       "  'smale': 0.6288772282777532,\n",
       "  'blow': 0.604324802068145,\n",
       "  'bryan': 0.589217609539371},\n",
       " {'truth': 9.99287229204055,\n",
       "  'espn': 8.185236094769134,\n",
       "  'seem': 7.572961575546105,\n",
       "  'gerald': 7.456126544759132,\n",
       "  'second': 6.739836633487666,\n",
       "  'goal': 6.6353379478583285,\n",
       "  'abc': 5.769890993864606,\n",
       "  '30': 5.383973848843588,\n",
       "  'absolut': 5.371606172937386,\n",
       "  '22': 5.360849806016671},\n",
       " {'pt': 3.4337663033966037,\n",
       "  '11': 2.7613795409880777,\n",
       "  '55': 2.6248253364976244,\n",
       "  'period': 2.437661181419287,\n",
       "  '38': 1.7602958727488485,\n",
       "  '12': 1.7122225331843994,\n",
       "  'king': 1.5799805462262027,\n",
       "  '17': 1.3729432085655668,\n",
       "  '18': 1.3521234753523768,\n",
       "  '33': 1.281532364112946},\n",
       " {'pp': 2.136576311305311,\n",
       "  'scorer': 1.3014547275822186,\n",
       "  'period': 1.2110911026952327,\n",
       "  'robbi': 1.125351739773029,\n",
       "  'po': 1.1107954072490307,\n",
       "  'german': 1.06305506102561,\n",
       "  'devil': 1.0283917430910021,\n",
       "  'forward': 0.9367972173295864,\n",
       "  'somebodi': 0.9283161240566762,\n",
       "  'winnipeg': 0.8798653571774508},\n",
       " {'pregnanc': 0.9958936383608759,\n",
       "  'walsh': 0.7550614171062779,\n",
       "  'ottawa': 0.74921764786312,\n",
       "  'educ': 0.6932097559090985,\n",
       "  'eat': 0.646824817846316,\n",
       "  'serb': 0.6405496556843665,\n",
       "  'education': 0.6212695956805476,\n",
       "  'butera': 0.604067094101353,\n",
       "  'column': 0.5639052909468114,\n",
       "  'target': 0.5560325054970852},\n",
       " {'cell': 2.2880140383863887,\n",
       "  'propheci': 2.0395256784236433,\n",
       "  'jon': 1.6280687642450695,\n",
       "  'liturgi': 1.0456064142228343,\n",
       "  'prophecy': 0.9486364276092193,\n",
       "  'reid': 0.8850866962026082,\n",
       "  'committ': 0.644938035345996,\n",
       "  'churches': 0.6260625411610193,\n",
       "  'swe': 0.6013080085607371,\n",
       "  'coin': 0.5645443637230215},\n",
       " {'watt': 1.2898357153212598,\n",
       "  'interior': 1.0099960957058642,\n",
       "  'secretari': 0.9319222676444414,\n",
       "  'terranc': 0.9250353639288735,\n",
       "  'heath': 0.8966622698300355,\n",
       "  'reagan': 0.7582938097629679,\n",
       "  'appointee': 0.7268607481792647,\n",
       "  'deforest': 0.7268607481792647,\n",
       "  'pentacost': 0.7268607481792647,\n",
       "  'redwood': 0.6942303021185272},\n",
       " {'name': 9.963390768237597,\n",
       "  'two': 9.516005151413761,\n",
       "  'life': 9.2460933610052,\n",
       "  'sin': 8.69415042402928,\n",
       "  'hockey': 8.606144286812397,\n",
       "  'roger': 7.620708655370561,\n",
       "  'to': 7.524782246325041,\n",
       "  '16': 7.374360136020065,\n",
       "  'book': 7.360657548832547,\n",
       "  'law': 7.276359763981769}]"
      ]
     },
     "execution_count": 120,
     "metadata": {},
     "output_type": "execute_result"
    }
   ],
   "source": [
    "test"
   ]
  },
  {
   "cell_type": "code",
   "execution_count": 121,
   "metadata": {},
   "outputs": [
    {
     "name": "stdout",
     "output_type": "stream",
     "text": [
      "Topic 0: ['huot', 'cray', 'norm', 'franchi', 'minnesota', 'whatta', 'minut', 'pittpa', '_____________________________________________________________________________', 'riddance']\n",
      "Topic 1: ['hammerl', 'valeri', 'captain', 'sabbath', 'black', 'idacom', 'band', 'acsu', 'ub', 'pressure']\n",
      "Topic 2: ['chant', 'keenan', 'khan', 'mohammad', 'lyrics', 'passion', 'neilsen', 'handl', 'enmiti', 'fundamentalist']\n",
      "Topic 3: ['ist', 'ists', 'laboratory', 'stpl', 'terresteri', 'solar', 'rebuild', 'ulf', 'levit', 'samuelson']\n",
      "Topic 4: ['discussion', 'tonight', 'klingon', 'hirji', 'rahim', 'easter', 'close', 'godfather', 'before', 'target']\n",
      "Topic 5: ['easier', 'plymouth', 'marida', 'destroy', 'motorola', 'jon', '129', '632', '708', 'hawk']\n",
      "Topic 6: ['clement', 'tickets', 'messier', 'angelo', 'pleshar', 'irvin', 'color', 'dick', 'scalper', 'faq']\n",
      "Topic 7: ['grass', 'valley', 'chuck', 'daili', 'petch', 'ver', 'ca', 'armstrong', 'stan', 'revel']\n",
      "Topic 8: ['easter', 'celebr', 'chelio', 'wa', 'zazula', 'harold', 'ysebaert', 'neeli', 'french', 'tulsa']\n",
      "Topic 9: ['priest', 'blindly', 'paz', 'traer', 'venido', 'suhonen', 'pope', 'que', 'bowman', 'worship']\n",
      "Topic 10: ['gainey', 'murray', 'gm', 'forward', 'married', 'sanderson', 'foul', 'graca', 'bryan', 'ra']\n",
      "Topic 11: ['philli', '92', 'craig', '___', 'smith', '91', 'goal', 'futur', 'poll', 'loui']\n",
      "Topic 12: ['milwauk', 'ferreira', 'admir', 'galvin', 'robbi', 'po', '94', 'lives', 'jacob', 'really']\n",
      "Topic 13: ['jayn', 'vera', 'kulikauskas', 'creation', 'schism', 'ye', 'unto', 'murphy', 'muslim', 'kulikauska']\n",
      "Topic 14: ['carol', 'broadcast', 'kdka', 'alvin', 'absolute', 'interpretation', 'station', 'wdve', 'sportschannel', 'local']\n",
      "Topic 15: ['captain', 'exist', 'jewish', 'belief', 'natur', 'requir', 'drug', 'existence', 'respect', 'byler']\n",
      "Topic 16: ['keller', 'keith', 'rangers', 'upenn', 'art', 'ivi', 'quakers', 'pennsylvania', 'sas', 'champs']\n",
      "Topic 17: ['mask', 'babylon', 'acquired', 'arsenault', 'michel', 'curti', 'disea', 'wc', 'boxscor', 'fertil']\n",
      "Topic 18: ['pope', 'protest', 'monophysit', 'human', 'council', 'sherri', 'object', 'ignor', 'revelation', 'conflict']\n",
      "Topic 19: ['shap', 'hole', 'linden', 'ea', 'wa', 'sherlett', 'my', 'jeesu', 'commerci', 'flam']\n",
      "Topic 20: ['confer', 'winner', 'norri', 'smyth', 'gm', 'campbel', 'king', 'wale', 'satan', 'divi']\n",
      "Topic 21: ['walker', 'brunswick', 'environ', 'steel', 'pantheism', 'ray', 'sponser', 'rangers', 'giveaway', '__']\n",
      "Topic 22: ['georgia', 'covington', 'marri', 'michael', '706', '542', 'athen', '0358', '30602', '7415']\n",
      "Topic 23: ['vs', 'chi', 'det', 'cal', 'tor', 'bo', 'van', 'pit', 'stl', 'nyi']\n",
      "Topic 24: ['_____________________________________________________', 'ayari', 'seminari', 'keenan', 'darius', 'rpi', 'renssela', 'shirt', 'oser', 'crin']\n",
      "Topic 25: ['kariya', 'colorado', 'champions', 'daigl', 'witch', 'elli', 'tournament', 'dalla', 'daughter', 'captialist']\n",
      "Topic 26: ['octopu', 'gm', 'ahl', 'detroit', 'moncton', 'adirondack', 'clarkson', 'tonight', 'virginia', 'champs']\n",
      "Topic 27: ['nhl', 'boston', 'canadian', 'european', 'games', 'north', 'wing', 'toronto', 'draft', 'minnesota']\n",
      "Topic 28: ['immacul', 'stewart', 'roland', 'conception', 'dreier', 'declin', 'inner', 'numminen', 'link', 'ohio']\n",
      "Topic 29: ['pavlic', 'tba', 'matt', 'burger', 'bowl', 'loui', 'colorado', 'charlottetown', 'hindered', 'sorri']\n",
      "Topic 30: ['dare', 'gari', 'cc', 'phd', 'cunixb', 'gld', 'souvien', 'domi', 'je', 'columbia']\n",
      "Topic 31: ['66', 'darl', '81', '91', 'cellar', '86', 'bb', 'thoma', '215', 'realiabl']\n",
      "Topic 32: ['filinuk', 'geoff', 'cdt', 'ryan', 'hawk', 'impressive', 'central', 'est', 'ontario', 'themselves']\n",
      "Topic 33: ['hispan', 'ma', 'pera', 'ata', 'antonio', 'boston', 'ihl', 'offici', 'canon', 'hfsi']\n",
      "Topic 34: ['eau', 'murray', 'witch', 'dan', '609', 'cms', 'lauri', 'claire', 'wiccan', 'walker']\n",
      "Topic 35: ['hrivnak', 'friedman', 'braves', 'hornets', 'patton', 'skins', 'capitals', 'music', 'emot', 'technolog']\n",
      "Topic 36: ['jay', 'senators', 'lindro', 'expo', 'crawl', 'cuba', 'theist', 'defect', 'philli', 'repent']\n",
      "Topic 37: ['flyers', 'keenan', 'philip', 'barasso', 'increa', 'devot', 'curcio', '10510', 'briarcliff', 'per']\n",
      "Topic 38: ['348', 'sel', 'winnipeg', 'turner', 'eric', 'daryl', 'manitoba', 'scores', 'jet', 'media']\n",
      "Topic 39: ['not', 'god', 'christian', 'would', 'one', 'go', 'subject', 'from', 're', 'lines']\n",
      "Topic 40: ['tape', 'wbt', 'delay', 'susan', 'ideolog', 'mussack', 'primeau', 'uk', 'denounc', 'maria']\n",
      "Topic 41: ['finnish', 'helsinki', 'marcu', 'finland', 'tps', 'lindroo', 'inf', 'top', 'dusseldorf', 'draft']\n",
      "Topic 42: ['colons', 'dineen', 'conclu', 'stiehm', 'miami', 'hrudey', 'temper', 'smale', 'blow', 'bryan']\n",
      "Topic 43: ['truth', 'espn', 'seem', 'gerald', 'second', 'goal', 'abc', '30', 'absolut', '22']\n",
      "Topic 44: ['pt', '11', '55', 'period', '38', '12', 'king', '17', '18', '33']\n",
      "Topic 45: ['pp', 'scorer', 'period', 'robbi', 'po', 'german', 'devil', 'forward', 'somebodi', 'winnipeg']\n",
      "Topic 46: ['pregnanc', 'walsh', 'ottawa', 'educ', 'eat', 'serb', 'education', 'butera', 'column', 'target']\n",
      "Topic 47: ['cell', 'propheci', 'jon', 'liturgi', 'prophecy', 'reid', 'committ', 'churches', 'swe', 'coin']\n",
      "Topic 48: ['watt', 'interior', 'secretari', 'terranc', 'heath', 'reagan', 'appointee', 'deforest', 'pentacost', 'redwood']\n",
      "Topic 49: ['name', 'two', 'life', 'sin', 'hockey', 'roger', 'to', '16', 'book', 'law']\n"
     ]
    }
   ],
   "source": [
    "for i, topic in zip(range(len(test)), test):\n",
    "    print(f\"Topic {i}:\", list(topic.keys()))"
   ]
  },
  {
   "cell_type": "markdown",
   "metadata": {},
   "source": [
    "## Visualize potential topics"
   ]
  },
  {
   "cell_type": "markdown",
   "metadata": {},
   "source": [
    "👇 The function to print the words associated with the potential topics is already made for you. You just have to pass the correct arguments!"
   ]
  },
  {
   "cell_type": "code",
   "execution_count": 112,
   "metadata": {},
   "outputs": [],
   "source": [
    "#! pip install wordcloud"
   ]
  },
  {
   "cell_type": "code",
   "execution_count": 122,
   "metadata": {},
   "outputs": [
    {
     "ename": "ModuleNotFoundError",
     "evalue": "No module named 'wordcloud'",
     "output_type": "error",
     "traceback": [
      "\u001b[1;31m---------------------------------------------------------------------------\u001b[0m",
      "\u001b[1;31mModuleNotFoundError\u001b[0m                       Traceback (most recent call last)",
      "\u001b[1;32m~\\AppData\\Local\\Temp/ipykernel_3800/1080017979.py\u001b[0m in \u001b[0;36m<module>\u001b[1;34m\u001b[0m\n\u001b[1;32m----> 1\u001b[1;33m \u001b[1;32mfrom\u001b[0m \u001b[0mwordcloud\u001b[0m \u001b[1;32mimport\u001b[0m \u001b[0mWordCloud\u001b[0m\u001b[1;33m,\u001b[0m \u001b[0mSTOPWORDS\u001b[0m\u001b[1;33m\u001b[0m\u001b[1;33m\u001b[0m\u001b[0m\n\u001b[0m\u001b[0;32m      2\u001b[0m \u001b[1;32mimport\u001b[0m \u001b[0mmatplotlib\u001b[0m\u001b[1;33m.\u001b[0m\u001b[0mpyplot\u001b[0m \u001b[1;32mas\u001b[0m \u001b[0mplt\u001b[0m\u001b[1;33m\u001b[0m\u001b[1;33m\u001b[0m\u001b[0m\n\u001b[0;32m      3\u001b[0m \u001b[0mstopwords\u001b[0m \u001b[1;33m=\u001b[0m \u001b[0mset\u001b[0m\u001b[1;33m(\u001b[0m\u001b[0mSTOPWORDS\u001b[0m\u001b[1;33m)\u001b[0m\u001b[1;33m\u001b[0m\u001b[1;33m\u001b[0m\u001b[0m\n\u001b[0;32m      4\u001b[0m \u001b[1;33m\u001b[0m\u001b[0m\n\u001b[0;32m      5\u001b[0m \u001b[1;32mdef\u001b[0m \u001b[0mshow_wordcloud\u001b[0m\u001b[1;33m(\u001b[0m\u001b[0mtest\u001b[0m\u001b[1;33m,\u001b[0m \u001b[0mtitle\u001b[0m \u001b[1;33m=\u001b[0m \u001b[1;32mNone\u001b[0m\u001b[1;33m)\u001b[0m\u001b[1;33m:\u001b[0m\u001b[1;33m\u001b[0m\u001b[1;33m\u001b[0m\u001b[0m\n",
      "\u001b[1;31mModuleNotFoundError\u001b[0m: No module named 'wordcloud'"
     ]
    }
   ],
   "source": [
    "from wordcloud import WordCloud, STOPWORDS\n",
    "import matplotlib.pyplot as plt\n",
    "stopwords = set(STOPWORDS)\n",
    "\n",
    "def show_wordcloud(test, title = None):\n",
    "    wordcloud = WordCloud(\n",
    "        background_color='white',\n",
    "        stopwords=stopwords,\n",
    "        max_words=200,\n",
    "        max_font_size=40, \n",
    "        scale=3,\n",
    "        random_state=1 # chosen at random by flipping a coin; it was heads\n",
    "    ).generate(str(test))\n",
    "\n",
    "    fig = plt.figure(1, figsize=(12, 12))\n",
    "    plt.axis('off')\n",
    "    if title: \n",
    "        fig.suptitle(title, fontsize=20)\n",
    "        fig.subplots_adjust(top=2.3)\n",
    "\n",
    "    plt.imshow(wordcloud)\n",
    "    plt.show()\n",
    "\n",
    "show_wordcloud(test)\n",
    "show_wordcloud(test)"
   ]
  },
  {
   "cell_type": "markdown",
   "metadata": {},
   "source": [
    "## Predict topic of new text"
   ]
  },
  {
   "cell_type": "markdown",
   "metadata": {},
   "source": [
    "👇 You can now use your LDA model to predict the topic of a new text. First, use your vectorizer to vectorize the example. Then, use your LDA model to predict the topic of the vectorized example."
   ]
  },
  {
   "cell_type": "code",
   "execution_count": 24,
   "metadata": {},
   "outputs": [
    {
     "data": {
      "image/png": "[encoded data removed]",
      "text/plain": [
       "<Figure size 432x288 with 1 Axes>"
      ]
     },
     "metadata": {
      "needs_background": "light"
     },
     "output_type": "display_data"
    }
   ],
   "source": [
    "## Simple WordCloud\n",
    "import matplotlib.pyplot as plt\n",
    "from wordcloud import WordCloud, STOPWORDS \n",
    "\n",
    "text_teste = 'all your base are belong to us all of your base base base'\n",
    "\n",
    "def generate_wordcloud(text_teste): # optionally add: stopwords=STOPWORDS and change the arg below\n",
    "    wordcloud = WordCloud(\n",
    "    font_path=None,\n",
    "    width=200,\n",
    "    height=100,\n",
    "    margin=2,\n",
    "    ranks_only=None,\n",
    "    prefer_horizontal=0.9,\n",
    "    mask=None,\n",
    "    scale=1).generate(text)\n",
    "    plt.imshow(wordcloud)\n",
    "    plt.axis(\"off\")\n",
    "    plt.show()\n",
    "\n",
    "generate_wordcloud(text)"
   ]
  },
  {
   "cell_type": "code",
   "execution_count": 28,
   "metadata": {},
   "outputs": [
    {
     "data": {
      "image/png": "[encoded data removed]",
      "text/plain": [
       "<Figure size 864x864 with 1 Axes>"
      ]
     },
     "metadata": {
      "needs_background": "light"
     },
     "output_type": "display_data"
    }
   ],
   "source": [
    "#make wordcoud\n",
    "\n",
    "from wordcloud import WordCloud, STOPWORDS\n",
    "import matplotlib.pyplot as plt\n",
    "stopwords = set(STOPWORDS)\n",
    "\n",
    "def show_wordcloud(data_clean, title = None):\n",
    "    wordcloud = WordCloud(\n",
    "        background_color='white',\n",
    "        stopwords=stopwords,\n",
    "        max_words=200,\n",
    "        max_font_size=40, \n",
    "        scale=3,\n",
    "        random_state=1 # chosen at random by flipping a coin; it was heads\n",
    "    ).generate(str(data_clean))\n",
    "\n",
    "    fig = plt.figure(1, figsize=(12, 12))\n",
    "    plt.axis('off')\n",
    "    if title: \n",
    "        fig.suptitle(title, fontsize=20)\n",
    "        fig.subplots_adjust(top=2.3)\n",
    "\n",
    "    plt.imshow(wordcloud)\n",
    "    plt.show()\n",
    "show_wordcloud(data_clean, title = None)"
   ]
  },
  {
   "cell_type": "code",
   "execution_count": null,
   "metadata": {},
   "outputs": [],
   "source": []
  }
 ],
 "metadata": {
  "kernelspec": {
   "display_name": "Python 3",
   "language": "python",
   "name": "python3"
  },
  "language_info": {
   "codemirror_mode": {
    "name": "ipython",
    "version": 3
   },
   "file_extension": ".py",
   "mimetype": "text/x-python",
   "name": "python",
   "nbconvert_exporter": "python",
   "pygments_lexer": "ipython3",
   "version": "3.8.8"
  },
  "toc": {
   "base_numbering": 1,
   "nav_menu": {},
   "number_sections": false,
   "sideBar": true,
   "skip_h1_title": false,
   "title_cell": "Table of Contents",
   "title_sidebar": "Contents",
   "toc_cell": false,
   "toc_position": {},
   "toc_section_display": true,
   "toc_window_display": true
  }
 },
 "nbformat": 4,
 "nbformat_minor": 4
}
